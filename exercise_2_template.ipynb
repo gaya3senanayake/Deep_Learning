{
 "cells": [
  {
   "cell_type": "markdown",
   "id": "dcca3302",
   "metadata": {},
   "source": [
    "# Problem 1\n",
    "\n",
    "Setting up the enrivonment and loading the data. No need to change this part."
   ]
  },
  {
   "cell_type": "code",
   "execution_count": 74,
   "id": "bce6084d-0ac9-46e7-b74d-367ea80b5670",
   "metadata": {},
   "outputs": [
    {
     "name": "stderr",
     "output_type": "stream",
     "text": [
      "C:\\Users\\gayat\\AppData\\Local\\Temp\\ipykernel_20084\\1049062676.py:13: FutureWarning: You are using `torch.load` with `weights_only=False` (the current default value), which uses the default pickle module implicitly. It is possible to construct malicious pickle data which will execute arbitrary code during unpickling (See https://github.com/pytorch/pytorch/blob/main/SECURITY.md#untrusted-models for more details). In a future release, the default value for `weights_only` will be flipped to `True`. This limits the functions that could be executed during unpickling. Arbitrary objects will no longer be allowed to be loaded via this mode unless they are explicitly allowlisted by the user via `torch.serialization.add_safe_globals`. We recommend you start setting `weights_only=True` for any use case where you don't have full control of the loaded file. Please open an issue on GitHub for any issues related to this experimental feature.\n",
      "  loaded_tensors = torch.load('exercise_2_problem_1_data.pth')\n"
     ]
    }
   ],
   "source": [
    "import torch\n",
    "from torch import nn\n",
    "from torch.utils.data import TensorDataset, DataLoader\n",
    "from torchvision import datasets, transforms\n",
    "import numpy as np\n",
    "import matplotlib.pyplot as plt\n",
    "\n",
    "seed = 42\n",
    "torch.manual_seed(seed)\n",
    "np.random.seed(seed)\n",
    "\n",
    "# Load tensors from the file\n",
    "loaded_tensors = torch.load('exercise_2_problem_1_data.pth')\n",
    "X_tensor = loaded_tensors['X_tensor']\n",
    "Y_tensor = loaded_tensors['Y_tensor']\n",
    "dataset = TensorDataset(X_tensor, Y_tensor)"
   ]
  },
  {
   "cell_type": "markdown",
   "id": "879c23b7",
   "metadata": {},
   "source": [
    "## a) Model definition\n",
    "\n",
    "Finalize the model definition as instructed in the exercise sheet."
   ]
  },
  {
   "cell_type": "code",
   "execution_count": 2,
   "id": "d19f2fb3",
   "metadata": {},
   "outputs": [],
   "source": [
    "class RegressionModel(nn.Module):\n",
    "    def __init__(self, input_dim, output_dim):\n",
    "        super().__init__()\n",
    "        self.layers = nn.Sequential(\n",
    "            nn.Linear(input_dim, 400),  \n",
    "            nn.ReLU(),\n",
    "            nn.Linear(400, 200),  \n",
    "            nn.ReLU(),\n",
    "            nn.Linear(200, 100),  \n",
    "            nn.ReLU(),\n",
    "            nn.Linear(100, output_dim)  \n",
    "        )\n",
    "\n",
    "    def forward(self, x):\n",
    "        return self.layers(x)\n"
   ]
  },
  {
   "cell_type": "markdown",
   "id": "8e71365f",
   "metadata": {},
   "source": [
    "## b) Write optimization loop\n",
    "\n",
    "You can use any optimizer you want, but remember to set all the hyperparameters it requires, including the batch size and number of iterations etc that are defined outside the optimizer function."
   ]
  },
  {
   "cell_type": "code",
   "execution_count": 9,
   "id": "e294969d",
   "metadata": {},
   "outputs": [
    {
     "name": "stdout",
     "output_type": "stream",
     "text": [
      "Epoch [2/202] - MSE Loss: 0.956236\n",
      "Epoch [22/202] - MSE Loss: 0.231298\n",
      "Epoch [42/202] - MSE Loss: 0.080951\n",
      "Epoch [62/202] - MSE Loss: 0.024442\n",
      "Epoch [82/202] - MSE Loss: 0.006497\n",
      "Epoch [102/202] - MSE Loss: 0.001392\n",
      "Epoch [122/202] - MSE Loss: 0.000252\n",
      "Epoch [142/202] - MSE Loss: 0.000041\n",
      "Epoch [162/202] - MSE Loss: 0.000005\n",
      "Epoch [182/202] - MSE Loss: 0.000001\n",
      "Epoch [202/202] - MSE Loss: 0.000000\n"
     ]
    }
   ],
   "source": [
    "# Helper for retrieving minibatches of desired size\n",
    "batch_size = 64\n",
    "dataloader = DataLoader(dataset, batch_size=batch_size, shuffle=True)\n",
    "\n",
    "\n",
    "model = RegressionModel(100, 2)\n",
    "criterion = nn.MSELoss()\n",
    "lr = 0.0001\n",
    "optimizer = torch.optim.Adam(model.parameters(), lr=lr)\n",
    "\n",
    "num_epochs =202\n",
    "printing_interval = num_epochs // 10 # Avoid printing hundreds or thousands of losses, to keep the notebook cleaner\n",
    "losses_ = []\n",
    "\n",
    "model.train()\n",
    "for epoch in range(num_epochs):\n",
    "    running_loss = 0.0\n",
    "\n",
    "    for X_batch, Y_batch in dataloader:\n",
    "    \n",
    "        # 1) Zero the gradients\n",
    "        optimizer.zero_grad()\n",
    "\n",
    "        # 2) Forward pass\n",
    "        Y_pred = model(X_batch)\n",
    "\n",
    "        # 3) Compute loss (MSE)\n",
    "        loss = criterion(Y_pred, Y_batch)\n",
    "\n",
    "        # 4) Backprop\n",
    "        loss.backward()\n",
    "\n",
    "        # 5) Update parameters\n",
    "        optimizer.step()\n",
    "\n",
    "        running_loss += loss.item()\n",
    "\n",
    "    avg_loss = running_loss / len(dataloader)\n",
    "    losses_.append(avg_loss)\n",
    "\n",
    "    if(epoch % printing_interval == 1):\n",
    "        print(f\"Epoch [{epoch+1}/{num_epochs}] - MSE Loss: {avg_loss:.6f}\")\n"
   ]
  },
  {
   "cell_type": "markdown",
   "id": "27acb6b3",
   "metadata": {},
   "source": [
    "## d) Computing the gradient norms\n",
    "\n",
    "Practice extracting information about a trained model, by computing the gradient norms that were used to analyse SGD behavior during the lectures. No need to do anything with the gradient norms, just show that you can compute them."
   ]
  },
  {
   "cell_type": "code",
   "execution_count": 10,
   "id": "311a40aa",
   "metadata": {},
   "outputs": [
    {
     "name": "stdout",
     "output_type": "stream",
     "text": [
      "Gradient Norm stats for evaluation pass:\n",
      "  Mean  : 0.000002\n",
      "  Std   : 0.000000\n"
     ]
    }
   ],
   "source": [
    "# Switch to evaluation mode -- we are no longer training!\n",
    "model.eval()\n",
    "\n",
    "grad_norms = []  # to store gradient norms for each batch\n",
    "\n",
    "for inputs, targets in dataloader:\n",
    "    model.zero_grad()  # Reset gradients\n",
    "\n",
    "    outputs = model(inputs)\n",
    "    loss = criterion(outputs, targets)  # Compute loss\n",
    "    loss.backward()  # Backpropagate to compute gradients\n",
    "\n",
    "    # Compute squared L2 norm across all model parameter gradients\n",
    "    batch_grad_norm = 0.0\n",
    "    for p in model.parameters():\n",
    "        if p.grad is not None:\n",
    "            batch_grad_norm += torch.sum(p.grad ** 2).item()\n",
    "    grad_norms.append(batch_grad_norm)\n",
    "\n",
    "# Convert to numpy array for statistics\n",
    "grad_norms = np.array(grad_norms)\n",
    "mean_gn = np.mean(grad_norms)\n",
    "var_gn  = np.var(grad_norms)\n",
    "\n",
    "print(\"Gradient Norm stats for evaluation pass:\")\n",
    "print(f\"  Mean  : {mean_gn:.6f}\")\n",
    "print(f\"  Std   : {var_gn:.6f}\")"
   ]
  },
  {
   "cell_type": "markdown",
   "id": "8c173449-0811-48b1-a2bc-50aa9d184b60",
   "metadata": {},
   "source": [
    "## e) Reporting\n",
    "\n",
    "**Edit this cell directly to write your answers.** You should print the values within the code blocks, but also copy them here for ease of grading. You can also write any other remarks you may have in this cell.\n",
    "\n",
    "### Optimizer settings: \n",
    "I used **Adam optimizer** with the following parameters:  \n",
    "- Learning rate: **0.0001**  \n",
    "- Default Adam parameters: **β1 = 0.9, β2 = 0.999, ε = 1e-8**\n",
    "\n",
    "### Optimization speed:\n",
    "\n",
    "I reached the loss threshold of **\\(10^{-4}\\)** after **~122 epochs**.\n",
    "\n",
    "### The gradient norms:\n",
    "\n",
    "After training the model, the gradient norm is **0.000002** and the variance over the batches is **0.000000**"
   ]
  },
  {
   "cell_type": "code",
   "execution_count": 11,
   "id": "88fd401c-c9a6-4850-9219-29f2f19f4ef5",
   "metadata": {},
   "outputs": [
    {
     "data": {
      "image/png": "[encoded data removed]",
      "text/plain": [
       "<Figure size 800x500 with 1 Axes>"
      ]
     },
     "metadata": {},
     "output_type": "display_data"
    }
   ],
   "source": [
    "# Plot the loss as function of epochs, using log-scale for the y-axis\n",
    "import matplotlib.pyplot as plt\n",
    "\n",
    "# Convert losses to numpy array\n",
    "losses_ = np.array(losses_)\n",
    "\n",
    "# Plot training error\n",
    "plt.figure(figsize=(8, 5))\n",
    "plt.plot(range(1, num_epochs + 1), losses_, label=\"Training Loss\")\n",
    "plt.yscale(\"log\")  # Log scale for y-axis\n",
    "plt.xlabel(\"Epochs\")\n",
    "plt.ylabel(\"MSE Loss (log scale)\")\n",
    "plt.title(\"Training Error Over Epochs\")\n",
    "plt.legend()\n",
    "plt.grid()\n",
    "plt.show()\n"
   ]
  },
  {
   "cell_type": "markdown",
   "id": "e43dd42e",
   "metadata": {},
   "source": [
    "=========\n",
    "\n",
    "# Problem 2"
   ]
  },
  {
   "cell_type": "markdown",
   "id": "361f9014-7dc5-406f-aa27-afbbe26b8f11",
   "metadata": {},
   "source": [
    "## a) Generate training/testing data\n",
    "\n",
    "Do not change this part. The code snippet greates synthetic data by feeding random inputs through randomly initialized neural network."
   ]
  },
  {
   "cell_type": "code",
   "execution_count": 2,
   "id": "0dbd36f1-0ecc-49af-85e6-61631a2136e2",
   "metadata": {},
   "outputs": [],
   "source": [
    "# N samples with D inputs and O outputs\n",
    "N = 100\n",
    "D = 10\n",
    "O = 5\n",
    "\n",
    "# Random mapping from x to y, as small neural network\n",
    "class CreationModel(nn.Module):\n",
    "  def __init__(self, D, O, M):\n",
    "    super().__init__()\n",
    "    self.layers = nn.Sequential(\n",
    "      nn.Linear(D, M),\n",
    "      nn.Tanh(),\n",
    "      nn.Linear(M, O)\n",
    "    )\n",
    "\n",
    "  def forward(self, x):\n",
    "    return self.layers(x)\n",
    "\n",
    "# For getting the same data\n",
    "torch.manual_seed(78798)\n",
    "\n",
    "# Training data\n",
    "x = torch.randn(N, D)\n",
    "noiselevel = 0.1\n",
    "modelGenerate = CreationModel(D,O,5)\n",
    "modelGenerate.eval()\n",
    "y = modelGenerate(x).clone().detach() + noiselevel*torch.randn(N, O)\n",
    "\n",
    "# Test data\n",
    "N_test = 10000\n",
    "x_test = torch.randn(N_test, D)\n",
    "y_test = modelGenerate(x_test).clone().detach()  + noiselevel*torch.randn(N_test, O)"
   ]
  },
  {
   "cell_type": "markdown",
   "id": "54ae6dff-fd03-4b3b-872b-6a3bc9d5d7f7",
   "metadata": {},
   "source": [
    "## Pre-defined model\n",
    "\n",
    "Do not change this part. The parameter $M$ controls the size/complexity of the network."
   ]
  },
  {
   "cell_type": "code",
   "execution_count": 3,
   "id": "a7f9fba9-6817-43ea-86fc-c2b0a2f8a7fc",
   "metadata": {},
   "outputs": [],
   "source": [
    "class RegressionModel(nn.Module):\n",
    "  def __init__(self, D, O, M):\n",
    "    super().__init__()\n",
    "    self.layers = nn.Sequential(\n",
    "      nn.Linear(D, M),\n",
    "      nn.ReLU(),\n",
    "      nn.Linear(M, M),\n",
    "      nn.ReLU(),\n",
    "      nn.Linear(M, O)\n",
    "    )\n",
    "\n",
    "  def forward(self, x):\n",
    "    return self.layers(x)"
   ]
  },
  {
   "cell_type": "markdown",
   "id": "e9682148-ec80-4bf8-afc9-6e0eea3126ae",
   "metadata": {},
   "source": [
    "## b) Train model and validate the double descent principle"
   ]
  },
  {
   "cell_type": "code",
   "execution_count": 9,
   "id": "287db507-0292-47cd-8d83-773806614813",
   "metadata": {},
   "outputs": [],
   "source": [
    "# Use full data for gradients\n",
    "B = N\n",
    "data_loader = DataLoader(TensorDataset(x,y), batch_size=B, shuffle=True)\n",
    "\n",
    "# Loop over some range of M values. With these parameters logspace generates M=2 twice, so dropping the first entry\n",
    "Mvalues = np.logspace(np.log10(2),np.log10(60),num=15,dtype='int')[1:]\n",
    "losses = np.zeros((len(Mvalues),2))\n",
    "for mi, M in enumerate(Mvalues):\n",
    "    # TODO: Define the model\n",
    "    model = RegressionModel(D, O, M)\n",
    "    criterion = nn.MSELoss()\n",
    "    optimizer = torch.optim.Adam(model.parameters())\n",
    "    # TODO: Train it until convergence\n",
    "    for epoch in range(8000):  \n",
    "        model.train()\n",
    "        for X_batch, Y_batch in data_loader:\n",
    "            optimizer.zero_grad()\n",
    "            Y_pred = model(X_batch)\n",
    "            loss = criterion(Y_pred, Y_batch)\n",
    "            loss.backward()\n",
    "            optimizer.step()\n",
    "    \n",
    "    # TODO: Evaluate both training and test error, and store them\n",
    "    model.eval()\n",
    "    with torch.no_grad():\n",
    "        trainloss = criterion(model(x), y)\n",
    "        testloss = criterion(model(x_test), y_test)\n",
    "\n",
    "    losses[mi,0] = trainloss.item()\n",
    "    losses[mi,1] = testloss.item()"
   ]
  },
  {
   "cell_type": "markdown",
   "id": "f8494fe7",
   "metadata": {},
   "source": [
    "### Plot the final training loss and the final test loss\n",
    "\n",
    "The code below is provided as an example; you may need to modify it to be compatible with your results. Make some effort to make the plot easy to read."
   ]
  },
  {
   "cell_type": "code",
   "execution_count": 10,
   "id": "245266e3",
   "metadata": {},
   "outputs": [
    {
     "data": {
      "image/png": "[encoded data removed]",
      "text/plain": [
       "<Figure size 640x480 with 1 Axes>"
      ]
     },
     "metadata": {},
     "output_type": "display_data"
    }
   ],
   "source": [
    "plt.loglog(Mvalues, losses[:,0], 'b-')\n",
    "plt.loglog(Mvalues, losses[:,1], 'b:')\n",
    "plt.legend(['Training loss', 'Test loss'])\n",
    "ax = plt.gca(); ax.set_ylim([10**(-5),10**(0)])\n",
    "ax.set_ylabel(\"MSE\")\n",
    "ax.set_xlabel(\"Number of neurons\")\n",
    "# Customize x-axis to show more detailed labels\n",
    "from matplotlib.ticker import LogLocator, ScalarFormatter\n",
    "ax.xaxis.set_major_locator(LogLocator(base=10.0, subs=np.arange(1, 10)))\n",
    "ax.xaxis.set_major_formatter(ScalarFormatter())\n",
    "plt.show()"
   ]
  },
  {
   "cell_type": "markdown",
   "id": "4f7de7b2-e7ce-4141-8bb5-eb5ce0b6a525",
   "metadata": {},
   "source": [
    "### c) Having more data can hurt\n",
    "\n",
    "Show that increasing the amount of data helps when around the interpolation threshold, but that for overparameterized model it may hurt."
   ]
  },
  {
   "cell_type": "markdown",
   "id": "dda5b94b",
   "metadata": {},
   "source": [
    "## 1 Basic definitions"
   ]
  },
  {
   "cell_type": "code",
   "execution_count": 13,
   "id": "89c3f98d-ebd6-4c45-9d4a-7af66f4fb5f4",
   "metadata": {},
   "outputs": [
    {
     "name": "stdout",
     "output_type": "stream",
     "text": [
      "Test losses\n",
      "Results for different M values when N=100:\n",
      "M = 13:  Test Loss = 0.041710\n",
      "M = 47:  Test Loss = 0.027300\n",
      "Results for different M values when N=500:\n",
      "M = 13: Test Loss = 0.029233\n",
      "M = 47: Test Loss = 0.028500\n"
     ]
    }
   ],
   "source": [
    "# Generate the larger training set, using the same process as before\n",
    "N_large = 500\n",
    "x_large = torch.randn(N_large, D)\n",
    "y_large = modelGenerate(x_large).clone().detach() + noiselevel*torch.randn(N_large, O)\n",
    "\n",
    "# TODO: Identify two values of M you need to answer the question\n",
    "Mvalues = [13,47] \n",
    "\n",
    "# TODO: Repeat the training process for those options. Note that you can use the same code as before, \n",
    "# since you only changed the data and the set of M\n",
    "losses_500 = np.zeros((len(Mvalues),2))\n",
    "for mi, M in enumerate(Mvalues):\n",
    "    # TODO: Define the model\n",
    "    model = RegressionModel(D, O, M)\n",
    "    criterion = nn.MSELoss()\n",
    "    optimizer = torch.optim.Adam(model.parameters())\n",
    "    # TODO: Train it until convergence\n",
    "    for epoch in range(4000):  \n",
    "        model.train()\n",
    "        for X_batch, Y_batch in data_loader:\n",
    "            optimizer.zero_grad()\n",
    "            Y_pred = model(X_batch)\n",
    "            loss = criterion(Y_pred, Y_batch)\n",
    "            loss.backward()\n",
    "            optimizer.step()\n",
    "    \n",
    "    # TODO: Evaluate both training and test error, and store them\n",
    "    model.eval()\n",
    "    with torch.no_grad():\n",
    "        trainloss = criterion(model(x), y)\n",
    "        testloss = criterion(model(x_test), y_test)\n",
    "\n",
    "    losses_500[mi,0] = trainloss.item()\n",
    "    losses_500[mi,1] = testloss.item()\n",
    "\n",
    "print(\"Test losses\")\n",
    "# TODO\n",
    "print(\"Results for different M values when N=100:\")\n",
    "print(f\"M = 13:  Test Loss = {losses[7, 1]:.6f}\")\n",
    "print(f\"M = 47:  Test Loss = {losses[12, 1]:.6f}\")\n",
    "\n",
    "print(\"Results for different M values when N=500:\")\n",
    "for mi, M in enumerate(Mvalues):\n",
    "    print(f\"M = {M}: Test Loss = {losses_500[mi, 1]:.6f}\")\n"
   ]
  },
  {
   "cell_type": "markdown",
   "id": "0561e620",
   "metadata": {},
   "source": [
    "## Reporting\n",
    "\n",
    "**Edit this cell directly to report the requested information.**\n",
    "\n",
    "### Interpolation threshold\n",
    "\n",
    "TODO: The interpolation threshold is around M = 20 ,\n",
    "\n",
    "TODO: For that M, the model has in total 700 parameters\n",
    "\n",
    "TODO: Explain the findings. Do you observe the expected pattern? Yes, when training loss goes to zero when M increases until the interpolation threshold point, test loss reaches to its peak. \n",
    "If not, what might have been a problem?\n",
    "The training loss significantly decreases **around M≈20** where the MSE is below 0.0001.After this point, training loss drops to near zero, indicating the model has enough parameters to interpolate (memorize) the training data.\n",
    "For **M=20, D=10, O=5**, ; \n",
    "Total Parameters=DM+MM+MO, input layer : 200+400+100, \n",
    "So, **Total Parameters=700** \n",
    "\n",
    "### More data can hurt\n",
    "\n",
    "TODO: Explain your choices of M values, report the test errors for the different amounts of training data, and explain the findings.\n",
    "\n",
    "Test losses\n",
    "Results for different M values when N=100:\n",
    "M = 13:  Test Loss = 0.041710\n",
    "M = 47:  Test Loss = 0.027300\n",
    "Results for different M values when N=500:\n",
    "M = 13: Test Loss = 0.029233\n",
    "M = 47: Test Loss = 0.028500\n",
    "\n",
    "I chose an M [13,47] values below the interpolation threshold and another from the overparameterized range to compare their impact on test loss as the data size changes. The results show that for M = 13, increasing N from 100 to 500 significantly reduces the test loss from 0.0417 to 0.0292, indicating that the model benefits from more training data. However, for M = 47, the test loss slightly increases as more data is introduced. At N = 100, the model's high capacity allowed it to memorize patterns effectively, resulting in a lower test loss. But as the dataset grows, test performance may degrade, suggesting that overparameterized models do not always benefit from larger datasets and may struggle with generalization."
   ]
  },
  {
   "cell_type": "code",
   "execution_count": null,
   "id": "b59b6437",
   "metadata": {},
   "outputs": [],
   "source": []
  }
 ],
 "metadata": {
  "kernelspec": {
   "display_name": "nndl",
   "language": "python",
   "name": "python3"
  },
  "language_info": {
   "codemirror_mode": {
    "name": "ipython",
    "version": 3
   },
   "file_extension": ".py",
   "mimetype": "text/x-python",
   "name": "python",
   "nbconvert_exporter": "python",
   "pygments_lexer": "ipython3",
   "version": "3.10.16"
  }
 },
 "nbformat": 4,
 "nbformat_minor": 5
}
